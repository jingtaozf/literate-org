{
 "cells": [
  {
   "cell_type": "markdown",
   "id": "11329466-c42d-452c-a6be-429b1a38388c",
   "metadata": {},
   "source": [
    "# Prepation\n",
    "## literate server"
   ]
  },
  {
   "cell_type": "code",
   "execution_count": 3,
   "id": "2b28fcb5-e9fe-4685-86a0-136e2e78a87f",
   "metadata": {
    "execution": {
     "iopub.execute_input": "2024-09-02T12:22:06.311732Z",
     "iopub.status.busy": "2024-09-02T12:22:06.310174Z",
     "iopub.status.idle": "2024-09-02T12:22:06.340562Z",
     "shell.execute_reply": "2024-09-02T12:22:06.337778Z",
     "shell.execute_reply.started": "2024-09-02T12:22:06.311667Z"
    }
   },
   "outputs": [
    {
     "name": "stdout",
     "output_type": "stream",
     "text": [
      " * Serving Flask app 'lpy.server'\n",
      " * Debug mode: on\n"
     ]
    },
    {
     "name": "stderr",
     "output_type": "stream",
     "text": [
      "INFO:werkzeug:\u001b[31m\u001b[1mWARNING: This is a development server. Do not use it in a production deployment. Use a production WSGI server instead.\u001b[0m\n",
      " * Running on http://127.0.0.1:7332\n",
      "INFO:werkzeug:\u001b[33mPress CTRL+C to quit\u001b[0m\n",
      "DEBUG:lpy.server:/execute Received:{'type': 'exec', 'module': None, 'module-create-method': 'import_or_create', 'code': 'logger = logging.getLogger(__name__)\\n\\n'}\n",
      "DEBUG:lpy.server:Executed code: logger = logging.getLogger(__name__)\n",
      "\n",
      ",result:None\n",
      "DEBUG:lpy.server:/execute Returning:{'result': None, 'type': 'result', 'stdout': '', 'stderr': ''}\n",
      "INFO:werkzeug:127.0.0.1 - - [02/Sep/2024 20:25:44] \"POST /execute HTTP/1.1\" 200 -\n",
      "DEBUG:lpy.server:/execute Received:{'type': 'exec', 'module': None, 'module-create-method': 'import_or_create', 'code': 'logger = logging.getLogger(__name__)\\n\\n'}\n",
      "DEBUG:lpy.server:Executed code: logger = logging.getLogger(__name__)\n",
      "\n",
      ",result:None\n",
      "DEBUG:lpy.server:/execute Returning:{'result': None, 'type': 'result', 'stdout': '', 'stderr': ''}\n",
      "INFO:werkzeug:127.0.0.1 - - [02/Sep/2024 20:25:49] \"POST /execute HTTP/1.1\" 200 -\n",
      "DEBUG:lpy.server:/execute Received:{'type': 'exec', 'module': 'lpy', 'module-create-method': 'import_or_create', 'code': 'logger = logging.getLogger(__name__)\\n\\n'}\n",
      "DEBUG:lpy.server:/execute Returning:{'error': \"name 'logging' is not defined\", 'type': 'error', 'stdout': '', 'stderr': 'Traceback (most recent call last):\\n  File \"/Users/jingtao/projects/literate-python/lpy/server.py\", line 74, in process_a_message\\n    result = exec(compile(code, \"code\", \"exec\"), dict)\\n             ^^^^^^^^^^^^^^^^^^^^^^^^^^^^^^^^^^^^^^^^^\\n  File \"code\", line 1, in <module>\\n    __version__ = \"0.0.1\"\\n             ^^^^^^^\\nNameError: name \\'logging\\' is not defined. Did you forget to import \\'logging\\'\\n'}\n",
      "INFO:werkzeug:127.0.0.1 - - [02/Sep/2024 20:25:56] \"POST /execute HTTP/1.1\" 200 -\n",
      "DEBUG:lpy.server:/execute Received:{'type': 'exec', 'module': 'loader', 'module-create-method': 'import_or_create', 'code': 'import sys\\nimport types\\nimport importlib\\nimport importlib.abc\\nimport importlib.machinery\\nimport logging\\n\\n'}\n",
      "DEBUG:lpy.server:Executed code: import sys\n",
      "import types\n",
      "import importlib\n",
      "import importlib.abc\n",
      "import importlib.machinery\n",
      "import logging\n",
      "\n",
      ",result:None\n",
      "DEBUG:lpy.server:/execute Returning:{'result': None, 'type': 'result', 'stdout': '', 'stderr': ''}\n",
      "INFO:werkzeug:127.0.0.1 - - [02/Sep/2024 20:26:02] \"POST /execute HTTP/1.1\" 200 -\n",
      "DEBUG:lpy.server:/execute Received:{'type': 'exec', 'module': 'lpy.loader', 'module-create-method': 'import_or_create', 'code': 'import sys\\nimport types\\nimport importlib\\nimport importlib.abc\\nimport importlib.machinery\\nimport logging\\n\\n'}\n",
      "DEBUG:lpy.server:Executed code: import sys\n",
      "import types\n",
      "import importlib\n",
      "import importlib.abc\n",
      "import importlib.machinery\n",
      "import logging\n",
      "\n",
      ",result:None\n",
      "DEBUG:lpy.server:/execute Returning:{'result': None, 'type': 'result', 'stdout': '', 'stderr': ''}\n",
      "INFO:werkzeug:127.0.0.1 - - [02/Sep/2024 20:26:19] \"POST /execute HTTP/1.1\" 200 -\n",
      "DEBUG:lpy.server:/execute Received:{'type': 'exec', 'module': 'lpy.loader', 'module-create-method': 'import_or_create', 'code': 'import sys\\nimport types\\nimport importlib\\nimport importlib.abc\\nimport importlib.machinery\\nimport logging\\n\\n'}\n",
      "DEBUG:lpy.server:Executed code: import sys\n",
      "import types\n",
      "import importlib\n",
      "import importlib.abc\n",
      "import importlib.machinery\n",
      "import logging\n",
      "\n",
      ",result:None\n",
      "DEBUG:lpy.server:/execute Returning:{'result': None, 'type': 'result', 'stdout': '', 'stderr': ''}\n",
      "INFO:werkzeug:127.0.0.1 - - [02/Sep/2024 20:26:26] \"POST /execute HTTP/1.1\" 200 -\n",
      "DEBUG:lpy.server:/execute Received:{'type': 'exec', 'module': 'lpy', 'module-create-method': 'import_or_create', 'code': 'logger = logging.getLogger(__name__)\\n\\n'}\n",
      "DEBUG:lpy.server:/execute Returning:{'error': \"name 'logging' is not defined\", 'type': 'error', 'stdout': '', 'stderr': 'Traceback (most recent call last):\\n  File \"/Users/jingtao/projects/literate-python/lpy/server.py\", line 74, in process_a_message\\n    result = exec(compile(code, \"code\", \"exec\"), dict)\\n             ^^^^^^^^^^^^^^^^^^^^^^^^^^^^^^^^^^^^^^^^^\\n  File \"code\", line 1, in <module>\\n    __version__ = \"0.0.1\"\\n             ^^^^^^^\\nNameError: name \\'logging\\' is not defined. Did you forget to import \\'logging\\'\\n'}\n",
      "INFO:werkzeug:127.0.0.1 - - [02/Sep/2024 20:26:28] \"POST /execute HTTP/1.1\" 200 -\n",
      "DEBUG:lpy.server:/execute Received:{'type': 'exec', 'module': 'lpy.loader', 'module-create-method': 'import_or_create', 'code': 'import sys\\nimport types\\nimport importlib\\nimport importlib.abc\\nimport importlib.machinery\\nimport logging\\n\\n'}\n",
      "DEBUG:lpy.server:Executed code: import sys\n",
      "import types\n",
      "import importlib\n",
      "import importlib.abc\n",
      "import importlib.machinery\n",
      "import logging\n",
      "\n",
      ",result:None\n",
      "DEBUG:lpy.server:/execute Returning:{'result': None, 'type': 'result', 'stdout': '', 'stderr': ''}\n",
      "INFO:werkzeug:127.0.0.1 - - [02/Sep/2024 20:26:36] \"POST /execute HTTP/1.1\" 200 -\n",
      "DEBUG:lpy.server:/execute Received:{'type': 'exec', 'module': 'lpy.loader', 'module-create-method': 'import_or_create', 'code': 'import sys\\nimport types\\nimport importlib\\nimport importlib.abc\\nimport importlib.machinery\\nimport logging\\n\\n'}\n",
      "DEBUG:lpy.server:Executed code: import sys\n",
      "import types\n",
      "import importlib\n",
      "import importlib.abc\n",
      "import importlib.machinery\n",
      "import logging\n",
      "\n",
      ",result:None\n",
      "DEBUG:lpy.server:/execute Returning:{'result': None, 'type': 'result', 'stdout': '', 'stderr': ''}\n",
      "INFO:werkzeug:127.0.0.1 - - [02/Sep/2024 20:26:38] \"POST /execute HTTP/1.1\" 200 -\n",
      "DEBUG:lpy.server:/execute Received:{'type': 'exec', 'module': 'lpy.loader', 'module-create-method': 'import_or_create', 'code': 'logger = logging.getLogger(__name__)\\n\\n'}\n",
      "DEBUG:lpy.server:Executed code: logger = logging.getLogger(__name__)\n",
      "\n",
      ",result:None\n",
      "DEBUG:lpy.server:/execute Returning:{'result': None, 'type': 'result', 'stdout': '', 'stderr': ''}\n",
      "INFO:werkzeug:127.0.0.1 - - [02/Sep/2024 20:26:42] \"POST /execute HTTP/1.1\" 200 -\n",
      "DEBUG:lpy.server:/execute Received:{'type': 'exec', 'module': 'lpy.loader', 'module-create-method': 'import_or_create', 'code': 'if \"inMemoryModules\" not in globals():\\n    inMemoryModules = {}\\n\\n'}\n",
      "DEBUG:lpy.server:Executed code: if \"inMemoryModules\" not in globals():\n",
      "    inMemoryModules = {}\n",
      "\n",
      ",result:None\n",
      "DEBUG:lpy.server:/execute Returning:{'result': None, 'type': 'result', 'stdout': '', 'stderr': ''}\n",
      "INFO:werkzeug:127.0.0.1 - - [02/Sep/2024 20:26:45] \"POST /execute HTTP/1.1\" 200 -\n",
      "DEBUG:lpy.server:/execute Received:{'type': 'exec', 'module': 'lpy.loader', 'module-create-method': 'import_or_create', 'code': 'def _get_module_spec(fullname: str) -> bool:\\n    return inMemoryModules.get(fullname) or inMemoryModules.get(fullname + \".__init__\")\\n\\n'}\n",
      "DEBUG:lpy.server:Executed code: def _get_module_spec(fullname: str) -> bool:\n",
      "    return inMemoryModules.get(fullname) or inMemoryModules.get(fullname + \".__init__\")\n",
      "\n",
      ",result:None\n",
      "DEBUG:lpy.server:/execute Returning:{'result': None, 'type': 'result', 'stdout': '', 'stderr': ''}\n",
      "INFO:werkzeug:127.0.0.1 - - [02/Sep/2024 20:26:48] \"POST /execute HTTP/1.1\" 200 -\n",
      "DEBUG:lpy.server:/execute Received:{'type': 'exec', 'module': 'lpy.loader', 'module-create-method': 'import_or_create', 'code': 'class LiterateImporter(object):\\n    def find_module(self, fullname: str, path=None):\\n        if _get_module_spec(fullname):\\n            logger.info(f\"Found literate module {fullname}\")\\n            return self\\n        else:\\n            return None\\n\\n    def load_module(self, fullname: str):\\n        \"\"\"Create a new module object.\"\"\"\\n        mod_spec = _get_module_spec(fullname)\\n        mod = types.ModuleType(fullname)\\n        mod.__loader__ = self\\n        mod.__file__ = mod_spec.get(\"filepath\", \"\")\\n        # Set module path - get filepath and keep only the path until filename\\n        mod.__path__ = [\"/\".join(mod.__file__.split(\"/\")[:-1]) + \"/\"]\\n        mod.__package__ = fullname\\n        sys.modules[fullname] = mod\\n        # Execute the module/package code into the Module object\\n        logger.info(f\"Load literate module {fullname}\")\\n        exec(mod_spec[\"content\"], mod.__dict__)\\n        return mod\\n\\n'}\n",
      "DEBUG:lpy.server:Executed code: class LiterateImporter(object):\n",
      "    def find_module(self, fullname: str, path=None):\n",
      "        if _get_module_spec(fullname):\n",
      "            logger.info(f\"Found literate module {fullname}\")\n",
      "            return self\n",
      "        else:\n",
      "            return None\n",
      "\n",
      "    def load_module(self, fullname: str):\n",
      "        \"\"\"Create a new module object.\"\"\"\n",
      "        mod_spec = _get_module_spec(fullname)\n",
      "        mod = types.ModuleType(fullname)\n",
      "        mod.__loader__ = self\n",
      "        mod.__file__ = mod_spec.get(\"filepath\", \"\")\n",
      "        # Set module path - get filepath and keep only the path until filename\n",
      "        mod.__path__ = [\"/\".join(mod.__file__.split(\"/\")[:-1]) + \"/\"]\n",
      "        mod.__package__ = fullname\n",
      "        sys.modules[fullname] = mod\n",
      "        # Execute the module/package code into the Module object\n",
      "        logger.info(f\"Load literate module {fullname}\")\n",
      "        exec(mod_spec[\"content\"], mod.__dict__)\n",
      "        return mod\n",
      "\n",
      ",result:None\n",
      "DEBUG:lpy.server:/execute Returning:{'result': None, 'type': 'result', 'stdout': '', 'stderr': ''}\n",
      "INFO:werkzeug:127.0.0.1 - - [02/Sep/2024 20:26:50] \"POST /execute HTTP/1.1\" 200 -\n",
      "DEBUG:lpy.server:/execute Received:{'type': 'exec', 'module': 'lpy.loader', 'module-create-method': 'import_or_create', 'code': 'class LiterateImporter(object):\\n    def find_module(self, fullname: str, path=None):\\n        if _get_module_spec(fullname):\\n            logger.debug(f\"Found literate module {fullname}\")\\n            return self\\n        else:\\n            return None\\n\\n    def load_module(self, fullname: str):\\n        \"\"\"Create a new module object.\"\"\"\\n        mod_spec = _get_module_spec(fullname)\\n        mod = types.ModuleType(fullname)\\n        mod.__loader__ = self\\n        mod.__file__ = mod_spec.get(\"filepath\", \"\")\\n        # Set module path - get filepath and keep only the path until filename\\n        mod.__path__ = [\"/\".join(mod.__file__.split(\"/\")[:-1]) + \"/\"]\\n        mod.__package__ = fullname\\n        sys.modules[fullname] = mod\\n        # Execute the module/package code into the Module object\\n        logger.info(f\"Load literate module {fullname}\")\\n        exec(mod_spec[\"content\"], mod.__dict__)\\n        return mod\\n\\n'}\n",
      "DEBUG:lpy.server:Executed code: class LiterateImporter(object):\n",
      "    def find_module(self, fullname: str, path=None):\n",
      "        if _get_module_spec(fullname):\n",
      "            logger.debug(f\"Found literate module {fullname}\")\n",
      "            return self\n",
      "        else:\n",
      "            return None\n",
      "\n",
      "    def load_module(self, fullname: str):\n",
      "        \"\"\"Create a new module object.\"\"\"\n",
      "        mod_spec = _get_module_spec(fullname)\n",
      "        mod = types.ModuleType(fullname)\n",
      "        mod.__loader__ = self\n",
      "        mod.__file__ = mod_spec.get(\"filepath\", \"\")\n",
      "        # Set module path - get filepath and keep only the path until filename\n",
      "        mod.__path__ = [\"/\".join(mod.__file__.split(\"/\")[:-1]) + \"/\"]\n",
      "        mod.__package__ = fullname\n",
      "        sys.modules[fullname] = mod\n",
      "        # Execute the module/package code into the Module object\n",
      "        logger.info(f\"Load literate module {fullname}\")\n",
      "        exec(mod_spec[\"content\"], mod.__dict__)\n",
      "        return mod\n",
      "\n",
      ",result:None\n",
      "DEBUG:lpy.server:/execute Returning:{'result': None, 'type': 'result', 'stdout': '', 'stderr': ''}\n",
      "INFO:werkzeug:127.0.0.1 - - [02/Sep/2024 20:26:53] \"POST /execute HTTP/1.1\" 200 -\n",
      "DEBUG:lpy.server:/execute Received:{'type': 'exec', 'module': 'lpy.loader', 'module-create-method': 'import_or_create', 'code': 'class LiterateModuleFinder(importlib.abc.MetaPathFinder):\\n    def find_spec(self, fullname, path, target=None):\\n        if _get_module_spec(fullname):\\n            logger.debug(f\"Found literate module {fullname}\")\\n            return importlib.machinery.ModuleSpec(fullname, LiterateImporter())\\n        return None\\n\\n'}\n",
      "DEBUG:lpy.server:Executed code: class LiterateModuleFinder(importlib.abc.MetaPathFinder):\n",
      "    def find_spec(self, fullname, path, target=None):\n",
      "        if _get_module_spec(fullname):\n",
      "            logger.debug(f\"Found literate module {fullname}\")\n",
      "            return importlib.machinery.ModuleSpec(fullname, LiterateImporter())\n",
      "        return None\n",
      "\n",
      ",result:None\n",
      "DEBUG:lpy.server:/execute Returning:{'result': None, 'type': 'result', 'stdout': '', 'stderr': ''}\n",
      "INFO:werkzeug:127.0.0.1 - - [02/Sep/2024 20:27:08] \"POST /execute HTTP/1.1\" 200 -\n",
      "DEBUG:lpy.server:/execute Received:{'type': 'exec', 'module': 'lpy.loader', 'module-create-method': 'import_or_create', 'code': 'class LiterateImporter(object):\\n    def find_module(self, fullname: str, path=None):\\n        if _get_module_spec(fullname):\\n            logger.debug(f\"Found literate module {fullname}\")\\n            return self\\n        else:\\n            return None\\n\\n    def load_module(self, fullname: str):\\n        \"\"\"Create a new module object.\"\"\"\\n        mod_spec = _get_module_spec(fullname)\\n        mod = types.ModuleType(fullname)\\n        mod.__loader__ = self\\n        mod.__file__ = mod_spec.get(\"filepath\", \"\")\\n        # Set module path - get filepath and keep only the path until filename\\n        mod.__path__ = [\"/\".join(mod.__file__.split(\"/\")[:-1]) + \"/\"]\\n        mod.__package__ = fullname\\n        sys.modules[fullname] = mod\\n        # Execute the module/package code into the Module object\\n        logger.debu(f\"Load literate module {fullname}\")\\n        exec(mod_spec[\"content\"], mod.__dict__)\\n        return mod\\n\\n'}\n",
      "DEBUG:lpy.server:Executed code: class LiterateImporter(object):\n",
      "    def find_module(self, fullname: str, path=None):\n",
      "        if _get_module_spec(fullname):\n",
      "            logger.debug(f\"Found literate module {fullname}\")\n",
      "            return self\n",
      "        else:\n",
      "            return None\n",
      "\n",
      "    def load_module(self, fullname: str):\n",
      "        \"\"\"Create a new module object.\"\"\"\n",
      "        mod_spec = _get_module_spec(fullname)\n",
      "        mod = types.ModuleType(fullname)\n",
      "        mod.__loader__ = self\n",
      "        mod.__file__ = mod_spec.get(\"filepath\", \"\")\n",
      "        # Set module path - get filepath and keep only the path until filename\n",
      "        mod.__path__ = [\"/\".join(mod.__file__.split(\"/\")[:-1]) + \"/\"]\n",
      "        mod.__package__ = fullname\n",
      "        sys.modules[fullname] = mod\n",
      "        # Execute the module/package code into the Module object\n",
      "        logger.debu(f\"Load literate module {fullname}\")\n",
      "        exec(mod_spec[\"content\"], mod.__dict__)\n",
      "        return mod\n",
      "\n",
      ",result:None\n",
      "DEBUG:lpy.server:/execute Returning:{'result': None, 'type': 'result', 'stdout': '', 'stderr': ''}\n",
      "INFO:werkzeug:127.0.0.1 - - [02/Sep/2024 20:27:10] \"POST /execute HTTP/1.1\" 200 -\n",
      "DEBUG:lpy.server:/execute Received:{'type': 'exec', 'module': 'lpy.loader', 'module-create-method': 'import_or_create', 'code': 'def register_literate_module_finder():\\n    sys.meta_path = [\\n        f for f in sys.meta_path if not isinstance(f, LiterateModuleFinder)\\n    ]\\n    print(\"Register literate importer.\\\\n\")\\n    sys.meta_path.append(LiterateModuleFinder())\\n\\n'}\n",
      "DEBUG:lpy.server:Executed code: def register_literate_module_finder():\n",
      "    sys.meta_path = [\n",
      "        f for f in sys.meta_path if not isinstance(f, LiterateModuleFinder)\n",
      "    ]\n",
      "    print(\"Register literate importer.\\n\")\n",
      "    sys.meta_path.append(LiterateModuleFinder())\n",
      "\n",
      ",result:None\n",
      "DEBUG:lpy.server:/execute Returning:{'result': None, 'type': 'result', 'stdout': '', 'stderr': ''}\n",
      "INFO:werkzeug:127.0.0.1 - - [02/Sep/2024 20:27:13] \"POST /execute HTTP/1.1\" 200 -\n",
      "DEBUG:lpy.server:/execute Received:{'type': 'exec', 'module': 'lpy.loader', 'module-create-method': 'import_or_create', 'code': 'def register_literate_module_finder():\\n    sys.meta_path = [\\n        f for f in sys.meta_path if not isinstance(f, LiterateModuleFinder)\\n    ]\\n    print(\"Register literate importer.\\\\n\")\\n    sys.meta_path.append(LiterateModuleFinder())\\n\\n'}\n",
      "DEBUG:lpy.server:Executed code: def register_literate_module_finder():\n",
      "    sys.meta_path = [\n",
      "        f for f in sys.meta_path if not isinstance(f, LiterateModuleFinder)\n",
      "    ]\n",
      "    print(\"Register literate importer.\\n\")\n",
      "    sys.meta_path.append(LiterateModuleFinder())\n",
      "\n",
      ",result:None\n",
      "DEBUG:lpy.server:/execute Returning:{'result': None, 'type': 'result', 'stdout': '', 'stderr': ''}\n",
      "INFO:werkzeug:127.0.0.1 - - [02/Sep/2024 20:27:14] \"POST /execute HTTP/1.1\" 200 -\n",
      "DEBUG:lpy.server:/execute Received:{'type': 'exec', 'module': 'lpy.loader', 'module-create-method': 'import_or_create', 'code': 'class LiterateImporter(object):\\n    def find_module(self, fullname: str, path=None):\\n        if _get_module_spec(fullname):\\n            logger.debug(f\"Found literate module {fullname}\")\\n            return self\\n        else:\\n            return None\\n\\n    def load_module(self, fullname: str):\\n        \"\"\"Create a new module object.\"\"\"\\n        mod_spec = _get_module_spec(fullname)\\n        mod = types.ModuleType(fullname)\\n        mod.__loader__ = self\\n        mod.__file__ = mod_spec.get(\"filepath\", \"\")\\n        # Set module path - get filepath and keep only the path until filename\\n        mod.__path__ = [\"/\".join(mod.__file__.split(\"/\")[:-1]) + \"/\"]\\n        mod.__package__ = fullname\\n        sys.modules[fullname] = mod\\n        # Execute the module/package code into the Module object\\n        logger.debug(f\"Load literate module {fullname}\")\\n        exec(mod_spec[\"content\"], mod.__dict__)\\n        return mod\\n\\n'}\n",
      "DEBUG:lpy.server:Executed code: class LiterateImporter(object):\n",
      "    def find_module(self, fullname: str, path=None):\n",
      "        if _get_module_spec(fullname):\n",
      "            logger.debug(f\"Found literate module {fullname}\")\n",
      "            return self\n",
      "        else:\n",
      "            return None\n",
      "\n",
      "    def load_module(self, fullname: str):\n",
      "        \"\"\"Create a new module object.\"\"\"\n",
      "        mod_spec = _get_module_spec(fullname)\n",
      "        mod = types.ModuleType(fullname)\n",
      "        mod.__loader__ = self\n",
      "        mod.__file__ = mod_spec.get(\"filepath\", \"\")\n",
      "        # Set module path - get filepath and keep only the path until filename\n",
      "        mod.__path__ = [\"/\".join(mod.__file__.split(\"/\")[:-1]) + \"/\"]\n",
      "        mod.__package__ = fullname\n",
      "        sys.modules[fullname] = mod\n",
      "        # Execute the module/package code into the Module object\n",
      "        logger.debug(f\"Load literate module {fullname}\")\n",
      "        exec(mod_spec[\"content\"], mod.__dict__)\n",
      "        return mod\n",
      "\n",
      ",result:None\n",
      "DEBUG:lpy.server:/execute Returning:{'result': None, 'type': 'result', 'stdout': '', 'stderr': ''}\n",
      "INFO:werkzeug:127.0.0.1 - - [02/Sep/2024 20:27:47] \"POST /execute HTTP/1.1\" 200 -\n",
      "DEBUG:lpy.server:/execute Received:{'type': 'exec', 'module': 'lpy.loader', 'module-create-method': 'import_or_create', 'code': 'class LiterateImporter(object):\\n    def find_module(self, fullname: str, path=None):\\n        if _get_module_spec(fullname):\\n            logger.debug(f\"Found literate module {fullname}\")\\n            return self\\n        else:\\n            return None\\n\\n    def load_module(self, fullname: str):\\n        \"\"\"Create a new module object.\"\"\"\\n        mod_spec = _get_module_spec(fullname)\\n        mod = types.ModuleType(fullname)\\n        mod.__loader__ = self\\n        mod.__file__ = mod_spec.get(\"filepath\", \"\")\\n        # Set module path - get filepath and keep only the path until filename\\n        mod.__path__ = [\"/\".join(mod.__file__.split(\"/\")[:-1]) + \"/\"]\\n        mod.__package__ = fullname\\n        sys.modules[fullname] = mod\\n        # Execute the module/package code into the Module object\\n        logger.debug(f\"Load literate module {fullname}\")\\n        exec(mod_spec[\"content\"], mod.__dict__)\\n        return mod\\n\\n'}\n",
      "DEBUG:lpy.server:Executed code: class LiterateImporter(object):\n",
      "    def find_module(self, fullname: str, path=None):\n",
      "        if _get_module_spec(fullname):\n",
      "            logger.debug(f\"Found literate module {fullname}\")\n",
      "            return self\n",
      "        else:\n",
      "            return None\n",
      "\n",
      "    def load_module(self, fullname: str):\n",
      "        \"\"\"Create a new module object.\"\"\"\n",
      "        mod_spec = _get_module_spec(fullname)\n",
      "        mod = types.ModuleType(fullname)\n",
      "        mod.__loader__ = self\n",
      "        mod.__file__ = mod_spec.get(\"filepath\", \"\")\n",
      "        # Set module path - get filepath and keep only the path until filename\n",
      "        mod.__path__ = [\"/\".join(mod.__file__.split(\"/\")[:-1]) + \"/\"]\n",
      "        mod.__package__ = fullname\n",
      "        sys.modules[fullname] = mod\n",
      "        # Execute the module/package code into the Module object\n",
      "        logger.debug(f\"Load literate module {fullname}\")\n",
      "        exec(mod_spec[\"content\"], mod.__dict__)\n",
      "        return mod\n",
      "\n",
      ",result:None\n",
      "DEBUG:lpy.server:/execute Returning:{'result': None, 'type': 'result', 'stdout': '', 'stderr': ''}\n",
      "INFO:werkzeug:127.0.0.1 - - [02/Sep/2024 20:27:48] \"POST /execute HTTP/1.1\" 200 -\n",
      "DEBUG:lpy.server:/execute Received:{'type': 'exec', 'module': 'lpy.loader', 'module-create-method': 'import_or_create', 'code': 'class LiterateImporter(object):\\n    def find_module(self, fullname: str, path=None):\\n        if _get_module_spec(fullname):\\n            logger.debug(f\"Found literate module {fullname}\")\\n            return self\\n        else:\\n            return None\\n\\n    def load_module(self, fullname: str):\\n        \"\"\"Create a new module object.\"\"\"\\n        mod_spec = _get_module_spec(fullname)\\n        mod = types.ModuleType(fullname)\\n        mod.__loader__ = self\\n        mod.__file__ = mod_spec.get(\"filepath\", \"\")\\n        # Set module path - get filepath and keep only the path until filename\\n        mod.__path__ = [\"/\".join(mod.__file__.split(\"/\")[:-1]) + \"/\"]\\n        mod.__package__ = fullname\\n        sys.modules[fullname] = mod\\n        # Execute the module/package code into the Module object\\n        logger.debug(f\"Load literate module {fullname}\")\\n        exec(mod_spec[\"content\"], mod.__dict__)\\n        return mod\\n\\n'}\n",
      "DEBUG:lpy.server:Executed code: class LiterateImporter(object):\n",
      "    def find_module(self, fullname: str, path=None):\n",
      "        if _get_module_spec(fullname):\n",
      "            logger.debug(f\"Found literate module {fullname}\")\n",
      "            return self\n",
      "        else:\n",
      "            return None\n",
      "\n",
      "    def load_module(self, fullname: str):\n",
      "        \"\"\"Create a new module object.\"\"\"\n",
      "        mod_spec = _get_module_spec(fullname)\n",
      "        mod = types.ModuleType(fullname)\n",
      "        mod.__loader__ = self\n",
      "        mod.__file__ = mod_spec.get(\"filepath\", \"\")\n",
      "        # Set module path - get filepath and keep only the path until filename\n",
      "        mod.__path__ = [\"/\".join(mod.__file__.split(\"/\")[:-1]) + \"/\"]\n",
      "        mod.__package__ = fullname\n",
      "        sys.modules[fullname] = mod\n",
      "        # Execute the module/package code into the Module object\n",
      "        logger.debug(f\"Load literate module {fullname}\")\n",
      "        exec(mod_spec[\"content\"], mod.__dict__)\n",
      "        return mod\n",
      "\n",
      ",result:None\n",
      "DEBUG:lpy.server:/execute Returning:{'result': None, 'type': 'result', 'stdout': '', 'stderr': ''}\n",
      "INFO:werkzeug:127.0.0.1 - - [02/Sep/2024 20:27:49] \"POST /execute HTTP/1.1\" 200 -\n",
      "DEBUG:lpy.server:/execute Received:{'type': 'exec', 'module': 'lpy.loader', 'module-create-method': 'import_or_create', 'code': 'class LiterateImporter(object):\\n    def find_module(self, fullname: str, path=None):\\n        if _get_module_spec(fullname):\\n            logger.debug(f\"Found literate module {fullname}\")\\n            return self\\n        else:\\n            return None\\n\\n    def load_module(self, fullname: str):\\n        \"\"\"Create a new module object.\"\"\"\\n        mod_spec = _get_module_spec(fullname)\\n        mod = types.ModuleType(fullname)\\n        mod.__loader__ = self\\n        mod.__file__ = mod_spec.get(\"filepath\", \"\")\\n        # Set module path - get filepath and keep only the path until filename\\n        mod.__path__ = [\"/\".join(mod.__file__.split(\"/\")[:-1]) + \"/\"]\\n        mod.__package__ = fullname\\n        sys.modules[fullname] = mod\\n        # Execute the module/package code into the Module object\\n        logger.debug(f\"Load literate module {fullname}\")\\n        exec(mod_spec[\"content\"], mod.__dict__)\\n        return mod\\n\\n'}\n",
      "DEBUG:lpy.server:Executed code: class LiterateImporter(object):\n",
      "    def find_module(self, fullname: str, path=None):\n",
      "        if _get_module_spec(fullname):\n",
      "            logger.debug(f\"Found literate module {fullname}\")\n",
      "            return self\n",
      "        else:\n",
      "            return None\n",
      "\n",
      "    def load_module(self, fullname: str):\n",
      "        \"\"\"Create a new module object.\"\"\"\n",
      "        mod_spec = _get_module_spec(fullname)\n",
      "        mod = types.ModuleType(fullname)\n",
      "        mod.__loader__ = self\n",
      "        mod.__file__ = mod_spec.get(\"filepath\", \"\")\n",
      "        # Set module path - get filepath and keep only the path until filename\n",
      "        mod.__path__ = [\"/\".join(mod.__file__.split(\"/\")[:-1]) + \"/\"]\n",
      "        mod.__package__ = fullname\n",
      "        sys.modules[fullname] = mod\n",
      "        # Execute the module/package code into the Module object\n",
      "        logger.debug(f\"Load literate module {fullname}\")\n",
      "        exec(mod_spec[\"content\"], mod.__dict__)\n",
      "        return mod\n",
      "\n",
      ",result:None\n",
      "DEBUG:lpy.server:/execute Returning:{'result': None, 'type': 'result', 'stdout': '', 'stderr': ''}\n",
      "INFO:werkzeug:127.0.0.1 - - [02/Sep/2024 20:27:52] \"POST /execute HTTP/1.1\" 200 -\n"
     ]
    }
   ],
   "source": [
    "from lpy.server import run_server as run_lpy_server\n",
    "from threading import Thread\n",
    "os.environ['LITERATE_PYTHON_HOST'] = '127.0.0.1'\n",
    "os.environ['LITERATE_PYTHON_PORT'] = '7332'\n",
    "lpy_server_thread = Thread(target=run_lpy_server)\n",
    "lpy_server_thread.start()\n"
   ]
  },
  {
   "cell_type": "markdown",
   "id": "ca6e0c36-e9f1-4d1b-b5ff-c2925b1e334d",
   "metadata": {},
   "source": [
    "## setup logging"
   ]
  },
  {
   "cell_type": "code",
   "execution_count": 8,
   "id": "c775dd38-87e2-45e3-872d-38df29ad3b5d",
   "metadata": {
    "execution": {
     "iopub.execute_input": "2024-09-02T12:24:48.288306Z",
     "iopub.status.busy": "2024-09-02T12:24:48.287277Z",
     "iopub.status.idle": "2024-09-02T12:24:48.297226Z",
     "shell.execute_reply": "2024-09-02T12:24:48.296182Z",
     "shell.execute_reply.started": "2024-09-02T12:24:48.288262Z"
    }
   },
   "outputs": [],
   "source": [
    "import logging\n",
    "FORMAT = (\n",
    "    \"[%(asctime)s %(filename)s->%(funcName)s():%(lineno)s]%(levelname)s: %(message)s\"\n",
    ")\n",
    "logging.basicConfig(encoding=\"utf-8\", level=logging.DEBUG, format=FORMAT)\n"
   ]
  },
  {
   "cell_type": "markdown",
   "id": "278544ff-4c2d-4136-b357-10a59969b712",
   "metadata": {},
   "source": [
    "## register literate loader"
   ]
  },
  {
   "cell_type": "code",
   "execution_count": 16,
   "id": "77e7a0d7-8e3e-47cf-8c21-2f4e1d127368",
   "metadata": {
    "execution": {
     "iopub.execute_input": "2024-09-02T12:28:12.555848Z",
     "iopub.status.busy": "2024-09-02T12:28:12.555457Z",
     "iopub.status.idle": "2024-09-02T12:28:12.559714Z",
     "shell.execute_reply": "2024-09-02T12:28:12.558962Z",
     "shell.execute_reply.started": "2024-09-02T12:28:12.555823Z"
    }
   },
   "outputs": [
    {
     "name": "stdout",
     "output_type": "stream",
     "text": [
      "Register literate importer.\n",
      "\n"
     ]
    }
   ],
   "source": [
    "from lpy.loader import register_literate_module_finder\n",
    "register_literate_module_finder()"
   ]
  },
  {
   "cell_type": "code",
   "execution_count": 5,
   "id": "16ba689b-fa69-4b89-a989-01a9ceb18bb1",
   "metadata": {
    "execution": {
     "iopub.execute_input": "2024-09-02T12:23:03.847155Z",
     "iopub.status.busy": "2024-09-02T12:23:03.845587Z",
     "iopub.status.idle": "2024-09-02T12:23:03.853916Z",
     "shell.execute_reply": "2024-09-02T12:23:03.853101Z",
     "shell.execute_reply.started": "2024-09-02T12:23:03.847072Z"
    }
   },
   "outputs": [],
   "source": [
    "# Test literate loader\n",
    "## Prepare example modules"
   ]
  },
  {
   "cell_type": "code",
   "execution_count": 17,
   "id": "d3c1e9ea-d1f0-4d8d-b50a-3ebafa62a018",
   "metadata": {
    "execution": {
     "iopub.execute_input": "2024-09-02T12:28:14.277132Z",
     "iopub.status.busy": "2024-09-02T12:28:14.276807Z",
     "iopub.status.idle": "2024-09-02T12:28:14.282292Z",
     "shell.execute_reply": "2024-09-02T12:28:14.281454Z",
     "shell.execute_reply.started": "2024-09-02T12:28:14.277110Z"
    }
   },
   "outputs": [
    {
     "data": {
      "text/plain": [
       "{'example3': {'content': '\\ndef hello():\\n    print(\"Hello from the in-memory module!\")\\n'}}"
      ]
     },
     "execution_count": 17,
     "metadata": {},
     "output_type": "execute_result"
    }
   ],
   "source": [
    "from lpy.loader import inMemoryModules\n",
    "inMemoryModules['example3'] = {'content': '''\n",
    "def hello():\n",
    "    print(\"Hello from the in-memory module!\")\n",
    "'''}\n",
    "inMemoryModules\n"
   ]
  },
  {
   "cell_type": "markdown",
   "id": "f4ba8fbb-7533-44f4-b403-124f677e712a",
   "metadata": {},
   "source": [
    "## Test"
   ]
  },
  {
   "cell_type": "code",
   "execution_count": 18,
   "id": "312e0251-7347-4e87-8e34-8c4e15ee92bc",
   "metadata": {
    "execution": {
     "iopub.execute_input": "2024-09-02T12:28:15.919489Z",
     "iopub.status.busy": "2024-09-02T12:28:15.919130Z",
     "iopub.status.idle": "2024-09-02T12:28:15.923765Z",
     "shell.execute_reply": "2024-09-02T12:28:15.922949Z",
     "shell.execute_reply.started": "2024-09-02T12:28:15.919467Z"
    }
   },
   "outputs": [],
   "source": [
    "import example3"
   ]
  },
  {
   "cell_type": "code",
   "execution_count": 21,
   "id": "6b34e310-eabc-4902-8591-c4a7f4355510",
   "metadata": {
    "execution": {
     "iopub.execute_input": "2024-09-02T12:28:29.060636Z",
     "iopub.status.busy": "2024-09-02T12:28:29.060301Z",
     "iopub.status.idle": "2024-09-02T12:28:29.065903Z",
     "shell.execute_reply": "2024-09-02T12:28:29.065239Z",
     "shell.execute_reply.started": "2024-09-02T12:28:29.060612Z"
    }
   },
   "outputs": [
    {
     "data": {
      "text/plain": [
       "{'__name__': 'example3',\n",
       " '__doc__': None,\n",
       " '__package__': 'example3',\n",
       " '__loader__': <lpy.loader.LiterateImporter at 0x107cb8bc0>,\n",
       " '__spec__': None,\n",
       " '__file__': '',\n",
       " '__path__': ['/']}"
      ]
     },
     "execution_count": 21,
     "metadata": {},
     "output_type": "execute_result"
    }
   ],
   "source": [
    "example3.__dict__"
   ]
  },
  {
   "cell_type": "code",
   "execution_count": null,
   "id": "73cafbe6-9cae-4a03-942d-cedd693ed5b6",
   "metadata": {},
   "outputs": [],
   "source": []
  }
 ],
 "metadata": {
  "kernelspec": {
   "display_name": "literate-python",
   "language": "python",
   "name": "literate-python"
  },
  "language_info": {
   "codemirror_mode": {
    "name": "ipython",
    "version": 3
   },
   "file_extension": ".py",
   "mimetype": "text/x-python",
   "name": "python",
   "nbconvert_exporter": "python",
   "pygments_lexer": "ipython3",
   "version": "3.12.5"
  }
 },
 "nbformat": 4,
 "nbformat_minor": 5
}
